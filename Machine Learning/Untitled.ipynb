{
 "cells": [
  {
   "cell_type": "markdown",
   "metadata": {},
   "source": [
    "# Data Science\n",
    "Science revolving around data is called data science.\n",
    "\n",
    "# Machine Learning\n",
    "The ability of machine to learn and understand data for classification or prediction is called machine learning\n",
    "\n",
    "Machine learning can broadly classfied into four categories:\n",
    "1. Supervised Learning: In supervised learning the training data consists of both input and its \n",
    "    - Regression\n",
    "    - Classification\n",
    "2. Unsupervised Learning:\n",
    "    - Clustering\n",
    "    - Association\n",
    "3. Semi-supervised learning:\n",
    "    Some of the data are labelled and most are not. The labeled data is used to build the model along with the unlabelled one and supervised learning is used to fine tune semi-supervised learning.\n",
    "    \n",
    "4. Reinforcement Learning\n",
    "\n",
    "And based on Learning process Machine learning is classifed as follows:\n",
    "- Batch learning\n",
    "- Online learning\n",
    "    \n",
    "And based on Generalization\n",
    "- Model Based learning\n",
    "- Instance based learning"
   ]
  },
  {
   "cell_type": "code",
   "execution_count": null,
   "metadata": {},
   "outputs": [],
   "source": []
  }
 ],
 "metadata": {
  "kernelspec": {
   "display_name": "Python 3",
   "language": "python",
   "name": "python3"
  },
  "language_info": {
   "codemirror_mode": {
    "name": "ipython",
    "version": 3
   },
   "file_extension": ".py",
   "mimetype": "text/x-python",
   "name": "python",
   "nbconvert_exporter": "python",
   "pygments_lexer": "ipython3",
   "version": "3.8.5"
  }
 },
 "nbformat": 4,
 "nbformat_minor": 4
}
