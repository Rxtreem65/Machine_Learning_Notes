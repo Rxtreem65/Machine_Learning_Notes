{
 "cells": [
  {
   "cell_type": "markdown",
   "metadata": {},
   "source": [
    "# Simple Linear Regression\n",
    "Sklearn is also known as scikit learn library.\n",
    "- It is used to import machine learning algorithms.\n",
    "- We are importing two function from Scikit learn: **train_test_split** and **LinearRregression**.\n",
    "\n",
    "Let us see each function in details. \n",
    "1. **train_test_split**:\n",
    "    * It is function which is used to split the data into two groups for training and testing. \n",
    "    * Most ideal split is 80:20 ratio: 80% training and 20% testing.\n",
    "    \n",
    "2. **LinearRegression**:\n",
    "    * The class that is required for implementing the linear regression"
   ]
  },
  {
   "cell_type": "code",
   "execution_count": 8,
   "metadata": {},
   "outputs": [],
   "source": [
    "# imports\n",
    "import numpy as np\n",
    "import matplotlib.pyplot as plt\n",
    "%matplotlib inline\n",
    "import pandas as pd\n",
    "\n",
    "from sklearn.model_selection import train_test_split\n",
    "from sklearn.linear_model import LinearRegression"
   ]
  },
  {
   "cell_type": "code",
   "execution_count": null,
   "metadata": {},
   "outputs": [],
   "source": []
  }
 ],
 "metadata": {
  "kernelspec": {
   "display_name": "Python 3",
   "language": "python",
   "name": "python3"
  },
  "language_info": {
   "codemirror_mode": {
    "name": "ipython",
    "version": 3
   },
   "file_extension": ".py",
   "mimetype": "text/x-python",
   "name": "python",
   "nbconvert_exporter": "python",
   "pygments_lexer": "ipython3",
   "version": "3.8.5"
  }
 },
 "nbformat": 4,
 "nbformat_minor": 4
}
