{
 "cells": [
  {
   "cell_type": "markdown",
   "metadata": {},
   "source": [
    "# Linear Regression\n",
    "- The regression it one-to-one relation between dependent and the independent variable.\n",
    "- it helps model a linear relationship between independent and dependent variable.\n",
    "- it very sensitive to outliers. \n",
    "\n",
    "Equation for Regression is\n",
    "$$ y = m_1*x_1 + m_2*x_2 + ... + m_n*x_3 + b_1 + b_2 + ... + b_n$$\n",
    "\n",
    "where **y** = dependent variable, **m** = co-efficient of the idependent variable, **x** = independent variable, **b** = the bias for each variable"
   ]
  },
  {
   "cell_type": "code",
   "execution_count": null,
   "metadata": {},
   "outputs": [],
   "source": []
  }
 ],
 "metadata": {
  "kernelspec": {
   "display_name": "Python 3",
   "language": "python",
   "name": "python3"
  },
  "language_info": {
   "codemirror_mode": {
    "name": "ipython",
    "version": 3
   },
   "file_extension": ".py",
   "mimetype": "text/x-python",
   "name": "python",
   "nbconvert_exporter": "python",
   "pygments_lexer": "ipython3",
   "version": "3.8.5"
  }
 },
 "nbformat": 4,
 "nbformat_minor": 4
}
