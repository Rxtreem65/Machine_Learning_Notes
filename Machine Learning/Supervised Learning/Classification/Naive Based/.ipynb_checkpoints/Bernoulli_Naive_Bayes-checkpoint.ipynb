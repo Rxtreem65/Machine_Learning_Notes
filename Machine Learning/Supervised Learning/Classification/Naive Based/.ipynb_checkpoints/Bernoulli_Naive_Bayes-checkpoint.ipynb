{
 "cells": [
  {
   "cell_type": "markdown",
   "metadata": {},
   "source": [
    "# Bernoulli Naive Bayes\n",
    "- It is sub-type of Naive Bayes theorem which works on Bernouli's theorem\n",
    "- It is generaly used for discrete data, with features in binay form\n",
    "\n",
    "### Advantages of Bernoulli Naive Bayes:\n",
    "\n",
    "- They are extremely fast as compared to other classification models and can also be used for realtime prediction\n",
    "- It can handle irrelevant features nicely and work with relevent features because of explicit penalty to the model for non-occurrence of any of the features which are necessary for predicting the output y. \n",
    "- In case of small amount of data or small documents(for example in text classification), Bernoulli Naive Bayes gives more accurate and precise results as compared to other models.\n",
    "\n",
    "\n",
    "\n",
    "### Disdvantages of Bernoulli Naive Bayes:\n",
    "\n",
    "- Since, it only works in haves and have nots, it sometimes makes a strong assumption based on the shape of data\n",
    "- Just like all Naive Bayes, the dependent features can affect the prediction and accuracy of the model. \n",
    "- If there is a categorial variable which is not present in training dataset, it results in zero frequency problem. This problem can be easily solved by Laplace estimation."
   ]
  }
 ],
 "metadata": {
  "kernelspec": {
   "display_name": "Python 3",
   "language": "python",
   "name": "python3"
  },
  "language_info": {
   "codemirror_mode": {
    "name": "ipython",
    "version": 3
   },
   "file_extension": ".py",
   "mimetype": "text/x-python",
   "name": "python",
   "nbconvert_exporter": "python",
   "pygments_lexer": "ipython3",
   "version": "3.8.5"
  }
 },
 "nbformat": 4,
 "nbformat_minor": 4
}
