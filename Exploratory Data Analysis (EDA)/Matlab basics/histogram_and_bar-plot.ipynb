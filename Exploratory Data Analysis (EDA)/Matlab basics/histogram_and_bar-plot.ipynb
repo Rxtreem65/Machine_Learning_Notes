{
 "cells": [
  {
   "cell_type": "markdown",
   "metadata": {},
   "source": [
    "# Histogram and Bar Plot "
   ]
  },
  {
   "cell_type": "code",
   "execution_count": 2,
   "metadata": {},
   "outputs": [],
   "source": [
    "# importing the libraries \n",
    "import numpy as np\n",
    "import matplotlib.pyplot as plt"
   ]
  },
  {
   "cell_type": "markdown",
   "metadata": {},
   "source": [
    "Let us now create data to plot. Consider a group of student named John, Alex, Jan, May and Nicole. We will plot their scores on history test in form of bar chart"
   ]
  },
  {
   "cell_type": "code",
   "execution_count": 3,
   "metadata": {},
   "outputs": [],
   "source": [
    "# creating the data\n",
    "student = [\"John\", \"Alex\", \"Jan\", \"May\", \"Nicole\"]\n",
    "\n",
    "# random score for history test\n",
    "test_scores = np.random.rand(len(student))"
   ]
  },
  {
   "cell_type": "markdown",
   "metadata": {},
   "source": [
    "We now try to plot the data using matplot"
   ]
  },
  {
   "cell_type": "code",
   "execution_count": 4,
   "metadata": {},
   "outputs": [
    {
     "data": {
      "text/plain": [
       "<BarContainer object of 5 artists>"
      ]
     },
     "execution_count": 4,
     "metadata": {},
     "output_type": "execute_result"
    },
    {
     "data": {
      "image/png": "[encoded data removed]",
      "text/plain": [
       "<Figure size 432x288 with 1 Axes>"
      ]
     },
     "metadata": {
      "needs_background": "light"
     },
     "output_type": "display_data"
    }
   ],
   "source": [
    "# creating the plot variable fig\n",
    "fig = plt.figure()\n",
    "\n",
    "# arange the students accross x-axis\n",
    "x_pos = np.arange(len(student))\n",
    "\n",
    "# defining the axis of the graphs\n",
    "plt.xlabel(\"Name of student\")\n",
    "plt.ylabel(\"Test Score\")\n",
    "\n",
    "# ploting the data\n",
    "plt.bar(test_scores, x_pos, color = \"blue\", width = 0.4)"
   ]
  },
  {
   "cell_type": "markdown",
   "metadata": {},
   "source": [
    "Let us now modify the bar chart a bit, by creating the spaced bar in color red"
   ]
  },
  {
   "cell_type": "code",
   "execution_count": 11,
   "metadata": {},
   "outputs": [
    {
     "data": {
      "image/png": "[encoded data removed]",
      "text/plain": [
       "<Figure size 432x288 with 1 Axes>"
      ]
     },
     "metadata": {
      "needs_background": "light"
     },
     "output_type": "display_data"
    }
   ],
   "source": [
    "# creating the plot variable fig\n",
    "fig = plt.figure()\n",
    "\n",
    "# difining the axes\n",
    "ax = fig.add_axes([0,0,1,1])\n",
    "\n",
    "\n",
    "# ploting the data\n",
    "ax.bar(student,test_scores, color = \"red\")\n",
    "\n",
    "# defining the axis of the graphs\n",
    "plt.xlabel(\"Name of student\")\n",
    "plt.ylabel(\"Test Score\")\n",
    "\n",
    "# ploting the graph\n",
    "plt.show()"
   ]
  },
  {
   "cell_type": "code",
   "execution_count": null,
   "metadata": {},
   "outputs": [],
   "source": []
  }
 ],
 "metadata": {
  "kernelspec": {
   "display_name": "Python 3",
   "language": "python",
   "name": "python3"
  },
  "language_info": {
   "codemirror_mode": {
    "name": "ipython",
    "version": 3
   },
   "file_extension": ".py",
   "mimetype": "text/x-python",
   "name": "python",
   "nbconvert_exporter": "python",
   "pygments_lexer": "ipython3",
   "version": "3.8.5"
  }
 },
 "nbformat": 4,
 "nbformat_minor": 4
}
