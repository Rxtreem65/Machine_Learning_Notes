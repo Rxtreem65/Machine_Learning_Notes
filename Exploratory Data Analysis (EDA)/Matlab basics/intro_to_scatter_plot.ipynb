{
 "cells": [
  {
   "cell_type": "markdown",
   "metadata": {},
   "source": [
    "# Scattered Plots"
   ]
  },
  {
   "cell_type": "code",
   "execution_count": 2,
   "metadata": {},
   "outputs": [],
   "source": [
    "# importing the required library \n",
    "import matplotlib.pyplot as plt\n",
    "import numpy as np\n",
    "%matplotlib inline"
   ]
  },
  {
   "cell_type": "markdown",
   "metadata": {},
   "source": [
    "We will create a scatter plot using *plot()* function whose co-ordinates will be given by array x and y array.\n",
    "\n",
    "Also, we use *title()* function for giving a title to the plot. And the function *xlabel()* and *ylabel()* naming the axses of the plot"
   ]
  },
  {
   "cell_type": "code",
   "execution_count": 7,
   "metadata": {},
   "outputs": [],
   "source": [
    "# creating the array\n",
    "x = np.array([1,5,3,2])\n",
    "y = np.array([5,6,5,2])"
   ]
  },
  {
   "cell_type": "code",
   "execution_count": 8,
   "metadata": {},
   "outputs": [
    {
     "data": {
      "image/png": "[encoded data removed]",
      "text/plain": [
       "<Figure size 432x288 with 1 Axes>"
      ]
     },
     "metadata": {
      "needs_background": "light"
     },
     "output_type": "display_data"
    }
   ],
   "source": [
    "# defining the plot\n",
    "plt.plot(x,y,'s',lw = 2) # 's' is for square\n",
    "\n",
    "# giving title\n",
    "plt.title(\"X vs Y graph\")\n",
    "\n",
    "# naming x and y axis\n",
    "plt.xlabel(\"x values\")\n",
    "plt.ylabel(\"y values\")\n",
    "\n",
    "# plot the graph\n",
    "plt.show()"
   ]
  },
  {
   "cell_type": "markdown",
   "metadata": {},
   "source": [
    "As we saw above, the points are square because we specified it with **'s'** argument. Similarly, there are multiple points types in matplotlib as follows:\n",
    "\n",
    "* \"o\" - dots\n",
    "* \"^\" - triange\n",
    "* \"-\" - dash\n",
    "* \"s\" - square\n",
    "\n",
    "The other argument is **lw** which specifies the line width of the points in the graph. "
   ]
  },
  {
   "cell_type": "code",
   "execution_count": null,
   "metadata": {},
   "outputs": [],
   "source": []
  }
 ],
 "metadata": {
  "kernelspec": {
   "display_name": "Python 3",
   "language": "python",
   "name": "python3"
  },
  "language_info": {
   "codemirror_mode": {
    "name": "ipython",
    "version": 3
   },
   "file_extension": ".py",
   "mimetype": "text/x-python",
   "name": "python",
   "nbconvert_exporter": "python",
   "pygments_lexer": "ipython3",
   "version": "3.8.5"
  }
 },
 "nbformat": 4,
 "nbformat_minor": 4
}
