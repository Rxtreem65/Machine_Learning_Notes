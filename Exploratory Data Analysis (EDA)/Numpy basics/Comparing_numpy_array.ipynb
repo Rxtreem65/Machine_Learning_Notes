{
 "cells": [
  {
   "cell_type": "code",
   "execution_count": 3,
   "metadata": {},
   "outputs": [],
   "source": [
    "# necessary imports\n",
    "import numpy as np\n",
    "import sys"
   ]
  },
  {
   "cell_type": "code",
   "execution_count": null,
   "metadata": {},
   "outputs": [],
   "source": [
    "Let us see what will "
   ]
  },
  {
   "cell_type": "code",
   "execution_count": 9,
   "metadata": {},
   "outputs": [
    {
     "name": "stdout",
     "output_type": "stream",
     "text": [
      "Storage taken by list:  28000\n",
      "Storage taken by array:  8000\n"
     ]
    }
   ],
   "source": [
    "# defining a list\n",
    "l = range(1000)\n",
    "\n",
    "# defining an array\n",
    "n = np.arange(1000)\n",
    "\n",
    "# comparing the storage\n",
    "print(\"Storage taken by list: \", sys.getsizeof(1)*len(l))\n",
    "print(\"Storage taken by array: \", n.size*n.itemsize)"
   ]
  },
  {
   "cell_type": "code",
   "execution_count": null,
   "metadata": {},
   "outputs": [],
   "source": []
  },
  {
   "cell_type": "code",
   "execution_count": null,
   "metadata": {},
   "outputs": [],
   "source": []
  }
 ],
 "metadata": {
  "kernelspec": {
   "display_name": "Python 3",
   "language": "python",
   "name": "python3"
  },
  "language_info": {
   "codemirror_mode": {
    "name": "ipython",
    "version": 3
   },
   "file_extension": ".py",
   "mimetype": "text/x-python",
   "name": "python",
   "nbconvert_exporter": "python",
   "pygments_lexer": "ipython3",
   "version": "3.8.5"
  }
 },
 "nbformat": 4,
 "nbformat_minor": 4
}
