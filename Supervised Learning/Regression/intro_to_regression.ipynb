{
 "cells": [
  {
   "cell_type": "markdown",
   "metadata": {},
   "source": [
    "# Regression\n",
    "- It is a supervised learning technique\n",
    "- Regression is a form ML technique which help investigate the relationship between a dependent and independent variable.\n",
    "- mainly used for forecasting, time series modeling and finding the causal relationship between variables.\n",
    "- There are mainly following types of regression:\n",
    " * Linear regression\n",
    " * Multiple linear regression\n",
    " * Logistic regression\n",
    " * polynomial regression\n",
    " * Lasso regression \n",
    " * Ridge regression\n",
    " * Stepwise regression\n",
    " * ElasticNet Regression\n",
    " \n",
    " \n",
    "- Some example of regression are:\n",
    " - relationship between rash driving and number of accidents\n",
    " - relationship between years of experiance and salary\n",
    " \n",
    "### How does regression help in data analysis?\n",
    "- indicating relationship between dependent and independent variable\n",
    "- the strength of impact of independent variable on the dependent variable\n",
    "- help predicting making models for analysis"
   ]
  },
  {
   "cell_type": "code",
   "execution_count": null,
   "metadata": {},
   "outputs": [],
   "source": []
  },
  {
   "cell_type": "code",
   "execution_count": null,
   "metadata": {},
   "outputs": [],
   "source": []
  }
 ],
 "metadata": {
  "kernelspec": {
   "display_name": "Python 3",
   "language": "python",
   "name": "python3"
  },
  "language_info": {
   "codemirror_mode": {
    "name": "ipython",
    "version": 3
   },
   "file_extension": ".py",
   "mimetype": "text/x-python",
   "name": "python",
   "nbconvert_exporter": "python",
   "pygments_lexer": "ipython3",
   "version": "3.8.5"
  }
 },
 "nbformat": 4,
 "nbformat_minor": 4
}
